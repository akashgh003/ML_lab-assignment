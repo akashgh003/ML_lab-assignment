{
 "cells": [
  {
   "cell_type": "markdown",
   "id": "429c3d97",
   "metadata": {},
   "source": [
    "# Lab task-3(AP21110010057)"
   ]
  },
  {
   "cell_type": "code",
   "execution_count": 12,
   "id": "547284cc",
   "metadata": {},
   "outputs": [],
   "source": [
    "import pandas as pd\n",
    "from sklearn.impute import SimpleImputer\n",
    "from sklearn.preprocessing import LabelEncoder, OneHotEncoder, OrdinalEncoder, StandardScaler, MinMaxScaler\n"
   ]
  },
  {
   "cell_type": "code",
   "execution_count": 20,
   "id": "9d29eba5",
   "metadata": {},
   "outputs": [
    {
     "name": "stdout",
     "output_type": "stream",
     "text": [
      "Original DataFrame:\n",
      "   Unnamed: 0  total_bill   tip     sex smoker  day    time  size\n",
      "0           0       16.99  1.01  Female     No  Sun  Dinner     2\n",
      "1           1         NaN  1.66    Male     No  Sun  Dinner     3\n",
      "2           2       21.01  3.50    Male     No  Sun  Dinner     3\n",
      "3           3       23.68  3.31    Male     No  Sun  Dinner     2\n",
      "4           4       24.59  3.61  Female     No  Sun  Dinner     4\n"
     ]
    }
   ],
   "source": [
    "tips_df = pd.read_csv('tips.csv')\n",
    "print(\"Original DataFrame:\")\n",
    "print(tips_df.head())"
   ]
  },
  {
   "cell_type": "markdown",
   "id": "c4a7f248",
   "metadata": {},
   "source": [
    "1. Read the tips dataset from the provided source only. Handle the missing values with the appropriate techniques."
   ]
  },
  {
   "cell_type": "code",
   "execution_count": 21,
   "id": "c9385c12",
   "metadata": {},
   "outputs": [
    {
     "name": "stdout",
     "output_type": "stream",
     "text": [
      "\n",
      "DataFrame after handling missing values:\n",
      "   Unnamed: 0  total_bill   tip     sex smoker  day    time  size\n",
      "0           0   16.990000  1.01  Female     No  Sun  Dinner   2.0\n",
      "1           1   21.360195  1.66    Male     No  Sun  Dinner   3.0\n",
      "2           2   21.010000  3.50    Male     No  Sun  Dinner   3.0\n",
      "3           3   23.680000  3.31    Male     No  Sun  Dinner   2.0\n",
      "4           4   24.590000  3.61  Female     No  Sun  Dinner   4.0\n"
     ]
    }
   ],
   "source": [
    "imputer = SimpleImputer(strategy='mean')\n",
    "tips_df[['total_bill', 'tip', 'size']] = imputer.fit_transform(tips_df[['total_bill', 'tip', 'size']])\n",
    "print(\"\\nDataFrame after handling missing values:\")\n",
    "print(tips_df.head())\n"
   ]
  },
  {
   "cell_type": "markdown",
   "id": "1540a49c",
   "metadata": {},
   "source": [
    "2. Handle the categorical data in the tips dataset with the relevant approaches such as label-encoding, one hot encoding, ordinal encoding."
   ]
  },
  {
   "cell_type": "code",
   "execution_count": 22,
   "id": "fbdf7905",
   "metadata": {},
   "outputs": [
    {
     "name": "stdout",
     "output_type": "stream",
     "text": [
      "\n",
      "DataFrame after handling categorical data:\n",
      "   Unnamed: 0  total_bill   tip     sex smoker  day    time  size  sex_label  \\\n",
      "0           0   16.990000  1.01  Female     No  Sun  Dinner   2.0          0   \n",
      "1           1   21.360195  1.66    Male     No  Sun  Dinner   3.0          1   \n",
      "2           2   21.010000  3.50    Male     No  Sun  Dinner   3.0          1   \n",
      "3           3   23.680000  3.31    Male     No  Sun  Dinner   2.0          1   \n",
      "4           4   24.590000  3.61  Female     No  Sun  Dinner   4.0          0   \n",
      "\n",
      "   day_Fri  day_Sat  day_Sun  day_Thur  day_ordinal  \n",
      "0    False    False     True     False          3.0  \n",
      "1    False    False     True     False          3.0  \n",
      "2    False    False     True     False          3.0  \n",
      "3    False    False     True     False          3.0  \n",
      "4    False    False     True     False          3.0  \n"
     ]
    }
   ],
   "source": [
    "label_encoder = LabelEncoder()\n",
    "tips_df['sex_label'] = label_encoder.fit_transform(tips_df['sex'])\n",
    "\n",
    "one_hot_encoder = pd.get_dummies(tips_df['day'], prefix='day')\n",
    "tips_df = pd.concat([tips_df, one_hot_encoder], axis=1)\n",
    "\n",
    "ordinal_encoder = OrdinalEncoder(categories=[['Thur', 'Fri', 'Sat', 'Sun']])\n",
    "tips_df['day_ordinal'] = ordinal_encoder.fit_transform(tips_df[['day']])\n",
    "print(\"\\nDataFrame after handling categorical data:\")\n",
    "print(tips_df.head())\n",
    "\n"
   ]
  },
  {
   "cell_type": "markdown",
   "id": "b252a353",
   "metadata": {},
   "source": [
    "3. Perform feature scaling techniques such as min-max normalization, standardization, z-score, on the tips dataset."
   ]
  },
  {
   "cell_type": "code",
   "execution_count": 23,
   "id": "4ab11bf2",
   "metadata": {},
   "outputs": [
    {
     "name": "stdout",
     "output_type": "stream",
     "text": [
      "\n",
      "DataFrame after feature scaling:\n",
      "   Unnamed: 0  total_bill   tip     sex smoker  day    time  size  sex_label  \\\n",
      "0           0   16.990000  1.01  Female     No  Sun  Dinner   2.0          0   \n",
      "1           1   21.360195  1.66    Male     No  Sun  Dinner   3.0          1   \n",
      "2           2   21.010000  3.50    Male     No  Sun  Dinner   3.0          1   \n",
      "3           3   23.680000  3.31    Male     No  Sun  Dinner   2.0          1   \n",
      "4           4   24.590000  3.61  Female     No  Sun  Dinner   4.0          0   \n",
      "\n",
      "   day_Fri  day_Sat  day_Sun  day_Thur  day_ordinal  total_bill_minmax  \\\n",
      "0    False    False     True     False          3.0           0.291579   \n",
      "1    False    False     True     False          3.0           0.383121   \n",
      "2    False    False     True     False          3.0           0.375786   \n",
      "3    False    False     True     False          3.0           0.431713   \n",
      "4    False    False     True     False          3.0           0.450775   \n",
      "\n",
      "   tip_minmax  total_bill_standard  tip_standard  \n",
      "0    0.001111            -0.538972     -1.439947  \n",
      "1    0.073333             0.000000     -0.969205  \n",
      "2    0.277778            -0.043189      0.363356  \n",
      "3    0.256667             0.286099      0.225754  \n",
      "4    0.290000             0.398329      0.443020  \n"
     ]
    }
   ],
   "source": [
    "min_max_scaler = MinMaxScaler()\n",
    "standard_scaler = StandardScaler()\n",
    "\n",
    "tips_df[['total_bill_minmax', 'tip_minmax']] = min_max_scaler.fit_transform(tips_df[['total_bill', 'tip']])\n",
    "tips_df[['total_bill_standard', 'tip_standard']] = standard_scaler.fit_transform(tips_df[['total_bill', 'tip']])\n",
    "print(\"\\nDataFrame after feature scaling:\")\n",
    "print(tips_df.head())"
   ]
  },
  {
   "cell_type": "markdown",
   "id": "54ef9843",
   "metadata": {},
   "source": [
    "4. Create a new feature representing the average tip percentage for each dining party size."
   ]
  },
  {
   "cell_type": "code",
   "execution_count": 24,
   "id": "659e5a07",
   "metadata": {},
   "outputs": [
    {
     "name": "stdout",
     "output_type": "stream",
     "text": [
      "\n",
      "DataFrame with the new feature (average tip percentage for each dining party size):\n",
      "   Unnamed: 0  total_bill   tip     sex smoker  day    time  size  sex_label  \\\n",
      "0           0   16.990000  1.01  Female     No  Sun  Dinner   2.0          0   \n",
      "1           1   21.360195  1.66    Male     No  Sun  Dinner   3.0          1   \n",
      "2           2   21.010000  3.50    Male     No  Sun  Dinner   3.0          1   \n",
      "3           3   23.680000  3.31    Male     No  Sun  Dinner   2.0          1   \n",
      "4           4   24.590000  3.61  Female     No  Sun  Dinner   4.0          0   \n",
      "\n",
      "   day_Fri  day_Sat  day_Sun  day_Thur  day_ordinal  total_bill_minmax  \\\n",
      "0    False    False     True     False          3.0           0.291579   \n",
      "1    False    False     True     False          3.0           0.383121   \n",
      "2    False    False     True     False          3.0           0.375786   \n",
      "3    False    False     True     False          3.0           0.431713   \n",
      "4    False    False     True     False          3.0           0.450775   \n",
      "\n",
      "   tip_minmax  total_bill_standard  tip_standard  tip_percentage  \\\n",
      "0    0.001111            -0.538972     -1.439947        5.944673   \n",
      "1    0.073333             0.000000     -0.969205        7.771465   \n",
      "2    0.277778            -0.043189      0.363356       16.658734   \n",
      "3    0.256667             0.286099      0.225754       13.978041   \n",
      "4    0.290000             0.398329      0.443020       14.680765   \n",
      "\n",
      "   average_tip_percentage  \n",
      "0               14.824175  \n",
      "1               14.778030  \n",
      "2               14.778030  \n",
      "3               14.824175  \n",
      "4               14.594901  \n"
     ]
    }
   ],
   "source": [
    "tips_df['tip_percentage'] = (tips_df['tip'] / tips_df['total_bill']) * 100\n",
    "average_tip_percentage = tips_df.groupby('size')['tip_percentage'].mean().reset_index()\n",
    "average_tip_percentage.columns = ['size', 'average_tip_percentage']\n",
    "tips_df = pd.merge(tips_df, average_tip_percentage, on='size', how='left')\n",
    "print(\"\\nDataFrame with the new feature (average tip percentage for each dining party size):\")\n",
    "print(tips_df.head())\n"
   ]
  },
  {
   "cell_type": "markdown",
   "id": "1c0ba570",
   "metadata": {},
   "source": [
    "5. Create a new feature based on total bill and tips if total bill is greater than 10 dollar and tips is greater than 3 dollar mark as Highest-bills-with-tips otherwise Normal-bills"
   ]
  },
  {
   "cell_type": "code",
   "execution_count": 25,
   "id": "ebd3559c",
   "metadata": {},
   "outputs": [
    {
     "name": "stdout",
     "output_type": "stream",
     "text": [
      "\n",
      "DataFrame with the new feature based on total bill and tips:\n",
      "   Unnamed: 0  total_bill   tip     sex smoker  day    time  size  sex_label  \\\n",
      "0           0   16.990000  1.01  Female     No  Sun  Dinner   2.0          0   \n",
      "1           1   21.360195  1.66    Male     No  Sun  Dinner   3.0          1   \n",
      "2           2   21.010000  3.50    Male     No  Sun  Dinner   3.0          1   \n",
      "3           3   23.680000  3.31    Male     No  Sun  Dinner   2.0          1   \n",
      "4           4   24.590000  3.61  Female     No  Sun  Dinner   4.0          0   \n",
      "\n",
      "   day_Fri  ...  day_Sun  day_Thur  day_ordinal  total_bill_minmax  \\\n",
      "0    False  ...     True     False          3.0           0.291579   \n",
      "1    False  ...     True     False          3.0           0.383121   \n",
      "2    False  ...     True     False          3.0           0.375786   \n",
      "3    False  ...     True     False          3.0           0.431713   \n",
      "4    False  ...     True     False          3.0           0.450775   \n",
      "\n",
      "   tip_minmax  total_bill_standard  tip_standard  tip_percentage  \\\n",
      "0    0.001111            -0.538972     -1.439947        5.944673   \n",
      "1    0.073333             0.000000     -0.969205        7.771465   \n",
      "2    0.277778            -0.043189      0.363356       16.658734   \n",
      "3    0.256667             0.286099      0.225754       13.978041   \n",
      "4    0.290000             0.398329      0.443020       14.680765   \n",
      "\n",
      "   average_tip_percentage        bill_tip_category  \n",
      "0               14.824175             Normal-bills  \n",
      "1               14.778030             Normal-bills  \n",
      "2               14.778030  Highest-bills-with-tips  \n",
      "3               14.824175  Highest-bills-with-tips  \n",
      "4               14.594901  Highest-bills-with-tips  \n",
      "\n",
      "[5 rows x 21 columns]\n"
     ]
    }
   ],
   "source": [
    "tips_df['bill_tip_category'] = 'Normal-bills'\n",
    "tips_df.loc[(tips_df['total_bill'] > 10) & (tips_df['tip'] > 3), 'bill_tip_category'] = 'Highest-bills-with-tips'\n",
    "print(\"\\nDataFrame with the new feature based on total bill and tips:\")\n",
    "print(tips_df.head())"
   ]
  },
  {
   "cell_type": "code",
   "execution_count": 26,
   "id": "f346fe21",
   "metadata": {},
   "outputs": [
    {
     "data": {
      "text/html": [
       "<div>\n",
       "<style scoped>\n",
       "    .dataframe tbody tr th:only-of-type {\n",
       "        vertical-align: middle;\n",
       "    }\n",
       "\n",
       "    .dataframe tbody tr th {\n",
       "        vertical-align: top;\n",
       "    }\n",
       "\n",
       "    .dataframe thead th {\n",
       "        text-align: right;\n",
       "    }\n",
       "</style>\n",
       "<table border=\"1\" class=\"dataframe\">\n",
       "  <thead>\n",
       "    <tr style=\"text-align: right;\">\n",
       "      <th></th>\n",
       "      <th>Unnamed: 0</th>\n",
       "      <th>total_bill</th>\n",
       "      <th>tip</th>\n",
       "      <th>sex</th>\n",
       "      <th>smoker</th>\n",
       "      <th>day</th>\n",
       "      <th>time</th>\n",
       "      <th>size</th>\n",
       "      <th>sex_label</th>\n",
       "      <th>day_Fri</th>\n",
       "      <th>...</th>\n",
       "      <th>day_Sun</th>\n",
       "      <th>day_Thur</th>\n",
       "      <th>day_ordinal</th>\n",
       "      <th>total_bill_minmax</th>\n",
       "      <th>tip_minmax</th>\n",
       "      <th>total_bill_standard</th>\n",
       "      <th>tip_standard</th>\n",
       "      <th>tip_percentage</th>\n",
       "      <th>average_tip_percentage</th>\n",
       "      <th>bill_tip_category</th>\n",
       "    </tr>\n",
       "  </thead>\n",
       "  <tbody>\n",
       "    <tr>\n",
       "      <th>0</th>\n",
       "      <td>0</td>\n",
       "      <td>16.990000</td>\n",
       "      <td>1.01</td>\n",
       "      <td>Female</td>\n",
       "      <td>No</td>\n",
       "      <td>Sun</td>\n",
       "      <td>Dinner</td>\n",
       "      <td>2.0</td>\n",
       "      <td>0</td>\n",
       "      <td>False</td>\n",
       "      <td>...</td>\n",
       "      <td>True</td>\n",
       "      <td>False</td>\n",
       "      <td>3.0</td>\n",
       "      <td>0.291579</td>\n",
       "      <td>0.001111</td>\n",
       "      <td>-0.538972</td>\n",
       "      <td>-1.439947</td>\n",
       "      <td>5.944673</td>\n",
       "      <td>14.824175</td>\n",
       "      <td>Normal-bills</td>\n",
       "    </tr>\n",
       "    <tr>\n",
       "      <th>1</th>\n",
       "      <td>1</td>\n",
       "      <td>21.360195</td>\n",
       "      <td>1.66</td>\n",
       "      <td>Male</td>\n",
       "      <td>No</td>\n",
       "      <td>Sun</td>\n",
       "      <td>Dinner</td>\n",
       "      <td>3.0</td>\n",
       "      <td>1</td>\n",
       "      <td>False</td>\n",
       "      <td>...</td>\n",
       "      <td>True</td>\n",
       "      <td>False</td>\n",
       "      <td>3.0</td>\n",
       "      <td>0.383121</td>\n",
       "      <td>0.073333</td>\n",
       "      <td>0.000000</td>\n",
       "      <td>-0.969205</td>\n",
       "      <td>7.771465</td>\n",
       "      <td>14.778030</td>\n",
       "      <td>Normal-bills</td>\n",
       "    </tr>\n",
       "    <tr>\n",
       "      <th>2</th>\n",
       "      <td>2</td>\n",
       "      <td>21.010000</td>\n",
       "      <td>3.50</td>\n",
       "      <td>Male</td>\n",
       "      <td>No</td>\n",
       "      <td>Sun</td>\n",
       "      <td>Dinner</td>\n",
       "      <td>3.0</td>\n",
       "      <td>1</td>\n",
       "      <td>False</td>\n",
       "      <td>...</td>\n",
       "      <td>True</td>\n",
       "      <td>False</td>\n",
       "      <td>3.0</td>\n",
       "      <td>0.375786</td>\n",
       "      <td>0.277778</td>\n",
       "      <td>-0.043189</td>\n",
       "      <td>0.363356</td>\n",
       "      <td>16.658734</td>\n",
       "      <td>14.778030</td>\n",
       "      <td>Highest-bills-with-tips</td>\n",
       "    </tr>\n",
       "    <tr>\n",
       "      <th>3</th>\n",
       "      <td>3</td>\n",
       "      <td>23.680000</td>\n",
       "      <td>3.31</td>\n",
       "      <td>Male</td>\n",
       "      <td>No</td>\n",
       "      <td>Sun</td>\n",
       "      <td>Dinner</td>\n",
       "      <td>2.0</td>\n",
       "      <td>1</td>\n",
       "      <td>False</td>\n",
       "      <td>...</td>\n",
       "      <td>True</td>\n",
       "      <td>False</td>\n",
       "      <td>3.0</td>\n",
       "      <td>0.431713</td>\n",
       "      <td>0.256667</td>\n",
       "      <td>0.286099</td>\n",
       "      <td>0.225754</td>\n",
       "      <td>13.978041</td>\n",
       "      <td>14.824175</td>\n",
       "      <td>Highest-bills-with-tips</td>\n",
       "    </tr>\n",
       "    <tr>\n",
       "      <th>4</th>\n",
       "      <td>4</td>\n",
       "      <td>24.590000</td>\n",
       "      <td>3.61</td>\n",
       "      <td>Female</td>\n",
       "      <td>No</td>\n",
       "      <td>Sun</td>\n",
       "      <td>Dinner</td>\n",
       "      <td>4.0</td>\n",
       "      <td>0</td>\n",
       "      <td>False</td>\n",
       "      <td>...</td>\n",
       "      <td>True</td>\n",
       "      <td>False</td>\n",
       "      <td>3.0</td>\n",
       "      <td>0.450775</td>\n",
       "      <td>0.290000</td>\n",
       "      <td>0.398329</td>\n",
       "      <td>0.443020</td>\n",
       "      <td>14.680765</td>\n",
       "      <td>14.594901</td>\n",
       "      <td>Highest-bills-with-tips</td>\n",
       "    </tr>\n",
       "  </tbody>\n",
       "</table>\n",
       "<p>5 rows × 21 columns</p>\n",
       "</div>"
      ],
      "text/plain": [
       "   Unnamed: 0  total_bill   tip     sex smoker  day    time  size  sex_label  \\\n",
       "0           0   16.990000  1.01  Female     No  Sun  Dinner   2.0          0   \n",
       "1           1   21.360195  1.66    Male     No  Sun  Dinner   3.0          1   \n",
       "2           2   21.010000  3.50    Male     No  Sun  Dinner   3.0          1   \n",
       "3           3   23.680000  3.31    Male     No  Sun  Dinner   2.0          1   \n",
       "4           4   24.590000  3.61  Female     No  Sun  Dinner   4.0          0   \n",
       "\n",
       "   day_Fri  ...  day_Sun  day_Thur  day_ordinal  total_bill_minmax  \\\n",
       "0    False  ...     True     False          3.0           0.291579   \n",
       "1    False  ...     True     False          3.0           0.383121   \n",
       "2    False  ...     True     False          3.0           0.375786   \n",
       "3    False  ...     True     False          3.0           0.431713   \n",
       "4    False  ...     True     False          3.0           0.450775   \n",
       "\n",
       "   tip_minmax  total_bill_standard  tip_standard  tip_percentage  \\\n",
       "0    0.001111            -0.538972     -1.439947        5.944673   \n",
       "1    0.073333             0.000000     -0.969205        7.771465   \n",
       "2    0.277778            -0.043189      0.363356       16.658734   \n",
       "3    0.256667             0.286099      0.225754       13.978041   \n",
       "4    0.290000             0.398329      0.443020       14.680765   \n",
       "\n",
       "   average_tip_percentage        bill_tip_category  \n",
       "0               14.824175             Normal-bills  \n",
       "1               14.778030             Normal-bills  \n",
       "2               14.778030  Highest-bills-with-tips  \n",
       "3               14.824175  Highest-bills-with-tips  \n",
       "4               14.594901  Highest-bills-with-tips  \n",
       "\n",
       "[5 rows x 21 columns]"
      ]
     },
     "execution_count": 26,
     "metadata": {},
     "output_type": "execute_result"
    }
   ],
   "source": [
    "tips_df.head()"
   ]
  },
  {
   "cell_type": "code",
   "execution_count": null,
   "id": "2eb00612",
   "metadata": {},
   "outputs": [],
   "source": []
  },
  {
   "cell_type": "code",
   "execution_count": null,
   "id": "8a3ffaab",
   "metadata": {},
   "outputs": [],
   "source": []
  }
 ],
 "metadata": {
  "kernelspec": {
   "display_name": "Python 3 (ipykernel)",
   "language": "python",
   "name": "python3"
  },
  "language_info": {
   "codemirror_mode": {
    "name": "ipython",
    "version": 3
   },
   "file_extension": ".py",
   "mimetype": "text/x-python",
   "name": "python",
   "nbconvert_exporter": "python",
   "pygments_lexer": "ipython3",
   "version": "3.11.5"
  }
 },
 "nbformat": 4,
 "nbformat_minor": 5
}
